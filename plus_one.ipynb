{
  "nbformat": 4,
  "nbformat_minor": 0,
  "metadata": {
    "colab": {
      "provenance": [],
      "authorship_tag": "ABX9TyOTeORZiKK1Ns1mggE/vXnE",
      "include_colab_link": true
    },
    "kernelspec": {
      "name": "python3",
      "display_name": "Python 3"
    },
    "language_info": {
      "name": "python"
    }
  },
  "cells": [
    {
      "cell_type": "markdown",
      "metadata": {
        "id": "view-in-github",
        "colab_type": "text"
      },
      "source": [
        "<a href=\"https://colab.research.google.com/github/gresantini/Python-exercises/blob/main/plus_one.ipynb\" target=\"_parent\"><img src=\"https://colab.research.google.com/assets/colab-badge.svg\" alt=\"Open In Colab\"/></a>"
      ]
    },
    {
      "cell_type": "code",
      "execution_count": null,
      "metadata": {
        "id": "dqTLBFbPE2Xx"
      },
      "outputs": [],
      "source": [
        "\n",
        "#You are given a large integer represented as an integer array digits, where each digits[i] is the ith digit of the integer.\n",
        "#The digits are ordered from most significant to least significant in left-to-right order. The large integer does not contain any leading 0's.\n",
        "#Increment the large integer by one and return the resulting array of digits.\n",
        "\n",
        ""
      ]
    },
    {
      "cell_type": "code",
      "source": [
        "class Solution(object):\n",
        "    def plusOne(self, digits):\n",
        "      for i in reversed(range(len(digits))):\n",
        "        if digits[i] < 9:\n",
        "          digits[i]+=1\n",
        "          return digits\n",
        "        digits[i]=0\n",
        "      return [1]+digits\n",
        "\n",
        "\n",
        "\n",
        "\n",
        "\n",
        "\n",
        "solution=Solution()\n",
        "print(solution.plusOne([1,2,3]))\n",
        "print(solution.plusOne([4,3,2,1]))\n",
        "print(solution.plusOne([9]))"
      ],
      "metadata": {
        "id": "aTD09zicFVfU"
      },
      "execution_count": null,
      "outputs": []
    }
  ]
}