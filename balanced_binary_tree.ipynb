{
  "nbformat": 4,
  "nbformat_minor": 0,
  "metadata": {
    "colab": {
      "provenance": [],
      "authorship_tag": "ABX9TyMtdaXZK+IflheYIDh/8H+k",
      "include_colab_link": true
    },
    "kernelspec": {
      "name": "python3",
      "display_name": "Python 3"
    },
    "language_info": {
      "name": "python"
    }
  },
  "cells": [
    {
      "cell_type": "markdown",
      "metadata": {
        "id": "view-in-github",
        "colab_type": "text"
      },
      "source": [
        "<a href=\"https://colab.research.google.com/github/gresantini/Python-exercises/blob/main/balanced_binary_tree.ipynb\" target=\"_parent\"><img src=\"https://colab.research.google.com/assets/colab-badge.svg\" alt=\"Open In Colab\"/></a>"
      ]
    },
    {
      "cell_type": "code",
      "execution_count": null,
      "metadata": {
        "id": "IHlggUsjkGvd"
      },
      "outputs": [],
      "source": [
        "#Given a binary tree, determine if it is height-balanced.\n",
        "\n",
        ""
      ]
    },
    {
      "cell_type": "code",
      "source": [
        "class TreeNode(object):\n",
        "  def __init__ (self, val=0, right= None, left= None):\n",
        "    self.val= val\n",
        "    self.right= right\n",
        "    self.left = left\n",
        "\n",
        "class Solution(object):\n",
        "  def height(self, node):\n",
        "      if not node:\n",
        "        return 0\n",
        "      return  1+ max(self.height(node.left), self.height(node.right))\n",
        "\n",
        "  def isBalanced(self, root):\n",
        "    if not root:\n",
        "      return True\n",
        "    left_height= self.height(root.left)\n",
        "    right_height= self.height(root.right)\n",
        "    if abs(left_height - right_height) >1:\n",
        "      return False\n",
        "    return self.isBalanced(root.left) and self.isBalanced(root.right)\n",
        "\n",
        "\n",
        "root = TreeNode(3)\n",
        "root.left = TreeNode(9)\n",
        "root.right = TreeNode(20)\n",
        "root.right.left = TreeNode(15)\n",
        "root.right.right = TreeNode(7)\n",
        "\n",
        "\n",
        "solution = Solution()\n",
        "print(solution.isBalanced(root))"
      ],
      "metadata": {
        "id": "wg9oGzNzkmKL"
      },
      "execution_count": null,
      "outputs": []
    }
  ]
}