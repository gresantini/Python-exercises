{
  "nbformat": 4,
  "nbformat_minor": 0,
  "metadata": {
    "colab": {
      "provenance": [],
      "authorship_tag": "ABX9TyOwLUHGuRnsaWuJ6Tl36I5m",
      "include_colab_link": true
    },
    "kernelspec": {
      "name": "python3",
      "display_name": "Python 3"
    },
    "language_info": {
      "name": "python"
    }
  },
  "cells": [
    {
      "cell_type": "markdown",
      "metadata": {
        "id": "view-in-github",
        "colab_type": "text"
      },
      "source": [
        "<a href=\"https://colab.research.google.com/github/gresantini/Python-exercises/blob/main/same_tree.ipynb\" target=\"_parent\"><img src=\"https://colab.research.google.com/assets/colab-badge.svg\" alt=\"Open In Colab\"/></a>"
      ]
    },
    {
      "cell_type": "code",
      "execution_count": null,
      "metadata": {
        "id": "OtTjqhhlUuuf"
      },
      "outputs": [],
      "source": [
        "#Given the roots of two binary trees p and q, write a function to check if they are the same or not.\n",
        "#Two binary trees are considered the same if they are structurally identical, and the nodes have the same value.\n",
        "\n",
        "\n",
        "\n",
        ""
      ]
    },
    {
      "cell_type": "code",
      "source": [
        "class TreeNode(object):\n",
        "    def __init__(self, val=0, left=None, right=None):\n",
        "      self.val = val\n",
        "      self.left = left\n",
        "      self.right = right\n",
        "class Solution(object):\n",
        "    def isSameTree(self, p, q):\n",
        "      if not p and not q:\n",
        "        return True\n",
        "      if not p or not q:\n",
        "        return False\n",
        "      if p.val != q.val:\n",
        "        return False\n",
        "      return self.isSameTree(p.left, q.left) and self.isSameTree(p.right, q.right)\n",
        "\n",
        "\n",
        "\n",
        "\n",
        "\n",
        "p = TreeNode(1)\n",
        "p.left = TreeNode(2)\n",
        "p.right = TreeNode(3)\n",
        "\n",
        "q = TreeNode(1)\n",
        "q.left = TreeNode(2)\n",
        "q.right = TreeNode(3)\n",
        "\n",
        "solution = Solution()\n",
        "print(solution.isSameTree(p, q))"
      ],
      "metadata": {
        "id": "_wlG7FWWU12O"
      },
      "execution_count": null,
      "outputs": []
    }
  ]
}