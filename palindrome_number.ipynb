{
  "nbformat": 4,
  "nbformat_minor": 0,
  "metadata": {
    "colab": {
      "provenance": [],
      "authorship_tag": "ABX9TyPvG0ckk58v6XpxxsFGZhbk",
      "include_colab_link": true
    },
    "kernelspec": {
      "name": "python3",
      "display_name": "Python 3"
    },
    "language_info": {
      "name": "python"
    }
  },
  "cells": [
    {
      "cell_type": "markdown",
      "metadata": {
        "id": "view-in-github",
        "colab_type": "text"
      },
      "source": [
        "<a href=\"https://colab.research.google.com/github/gresantini/Python-exercises/blob/main/palindrome_number.ipynb\" target=\"_parent\"><img src=\"https://colab.research.google.com/assets/colab-badge.svg\" alt=\"Open In Colab\"/></a>"
      ]
    },
    {
      "cell_type": "code",
      "execution_count": 2,
      "metadata": {
        "id": "t2KTT3mf52Lc"
      },
      "outputs": [],
      "source": [
        "#Given an integer x, return true if x is a palindrome, and false otherwise."
      ]
    },
    {
      "cell_type": "code",
      "source": [
        "def palindrome(x):\n",
        "  s= str(x)\n",
        "  return s == s[::-1]\n",
        "\n",
        "print (palindrome(121))\n",
        "print (palindrome(-121))\n",
        "print (palindrome(10))"
      ],
      "metadata": {
        "id": "gGpg31Sg5_vI"
      },
      "execution_count": null,
      "outputs": []
    }
  ]
}