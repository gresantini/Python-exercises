{
  "nbformat": 4,
  "nbformat_minor": 0,
  "metadata": {
    "colab": {
      "provenance": [],
      "authorship_tag": "ABX9TyPIf7Ul96fwIfF5baW+CzKq",
      "include_colab_link": true
    },
    "kernelspec": {
      "name": "python3",
      "display_name": "Python 3"
    },
    "language_info": {
      "name": "python"
    }
  },
  "cells": [
    {
      "cell_type": "markdown",
      "metadata": {
        "id": "view-in-github",
        "colab_type": "text"
      },
      "source": [
        "<a href=\"https://colab.research.google.com/github/gresantini/Python-exercises/blob/main/path_sum.ipynb\" target=\"_parent\"><img src=\"https://colab.research.google.com/assets/colab-badge.svg\" alt=\"Open In Colab\"/></a>"
      ]
    },
    {
      "cell_type": "code",
      "execution_count": null,
      "metadata": {
        "id": "VN22gfQvi4ZC"
      },
      "outputs": [],
      "source": [
        "#Given the root of a binary tree and an integer targetSum, return true if the tree has a root-to-leaf path such that adding up all the values along the path equals targetSum."
      ]
    },
    {
      "cell_type": "code",
      "source": [
        "class TreeNode(object):\n",
        "  def __init__(self, val=0, left=None, right=None):\n",
        "    self.val = val\n",
        "    self.left = left\n",
        "    self.right = right\n",
        "\n",
        "class Solution(object):\n",
        "  def pathSum(self, root, targetSum):\n",
        "    if root is None:\n",
        "      return False\n",
        "    if not root.left and not root.right:\n",
        "      return targetSum==root.val\n",
        "    targetSum-=root.val\n",
        "    return self.pathSum(root.left, targetSum) or self.pathSum(root.right, targetSum)\n",
        "\n",
        "\n",
        "solution= Solution()\n",
        "root = TreeNode(5)\n",
        "root.left = TreeNode(4)\n",
        "root.right = TreeNode(8)\n",
        "\n",
        "root.left.left = TreeNode(11)\n",
        "root.left.left.left = TreeNode(7)\n",
        "root.left.left.right = TreeNode(2)\n",
        "\n",
        "root.right.left = TreeNode(13)\n",
        "root.right.right = TreeNode(4)\n",
        "root.right.right.right = TreeNode(1)\n",
        "print(solution.pathSum(root,22))"
      ],
      "metadata": {
        "id": "AFh0AIXWi_j4"
      },
      "execution_count": null,
      "outputs": []
    }
  ]
}