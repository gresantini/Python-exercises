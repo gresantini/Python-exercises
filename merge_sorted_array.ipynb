{
  "nbformat": 4,
  "nbformat_minor": 0,
  "metadata": {
    "colab": {
      "provenance": [],
      "authorship_tag": "ABX9TyPCC9PtfuRfO67MVyKSxlIu",
      "include_colab_link": true
    },
    "kernelspec": {
      "name": "python3",
      "display_name": "Python 3"
    },
    "language_info": {
      "name": "python"
    }
  },
  "cells": [
    {
      "cell_type": "markdown",
      "metadata": {
        "id": "view-in-github",
        "colab_type": "text"
      },
      "source": [
        "<a href=\"https://colab.research.google.com/github/gresantini/Python-exercises/blob/main/merge_sorted_array.ipynb\" target=\"_parent\"><img src=\"https://colab.research.google.com/assets/colab-badge.svg\" alt=\"Open In Colab\"/></a>"
      ]
    },
    {
      "cell_type": "code",
      "execution_count": null,
      "metadata": {
        "id": "ybmiC5EjBRpF"
      },
      "outputs": [],
      "source": [
        "#You are given two integer arrays nums1 and nums2, sorted in non-decreasing order, and two integers m and n, representing the number of elements in nums1 and nums2 respectively.\n",
        "#Merge nums1 and nums2 into a single array sorted in non-decreasing order.\n",
        "#The final sorted array should not be returned by the function, but instead be stored inside the array nums1.\n",
        "#To accommodate this, nums1 has a length of m + n, where the first m elements denote the elements that should be merged, and the last n elements are set to 0 and should be ignored. nums2 has a length of n."
      ]
    },
    {
      "cell_type": "code",
      "source": [
        "class Solution(object):\n",
        "    def merge(self, nums1, m, nums2, n):\n",
        "      i=m-1\n",
        "      j=n-1\n",
        "      k=m+n-1\n",
        "      while i>= 0 and j>=0:\n",
        "        if nums1[i]>nums2[j]:\n",
        "          nums1[k]=nums1[i]\n",
        "          i-=1\n",
        "        else:\n",
        "          nums1[k]=nums2[j]\n",
        "          j-=1\n",
        "        k-=1\n",
        "\n",
        "      while j>=0:\n",
        "          nums1[k]=nums2[j]\n",
        "          j-=1\n",
        "          k-=1\n",
        "      return nums1\n",
        "\n",
        "\n",
        "\n",
        "\n",
        "\n",
        "\n",
        "\n",
        "solution=Solution()\n",
        "print(solution.merge([1,2,3,0,0,0],3,[2,5,6],3))\n",
        "print(solution.merge([1],1,[],0))\n",
        "print(solution.merge([0],0,[1],1))\n"
      ],
      "metadata": {
        "id": "F1xckpypCD8O"
      },
      "execution_count": null,
      "outputs": []
    }
  ]
}