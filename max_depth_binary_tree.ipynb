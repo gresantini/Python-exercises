{
  "nbformat": 4,
  "nbformat_minor": 0,
  "metadata": {
    "colab": {
      "provenance": [],
      "authorship_tag": "ABX9TyN4M012jBNlK5i0JK/duCXT",
      "include_colab_link": true
    },
    "kernelspec": {
      "name": "python3",
      "display_name": "Python 3"
    },
    "language_info": {
      "name": "python"
    }
  },
  "cells": [
    {
      "cell_type": "markdown",
      "metadata": {
        "id": "view-in-github",
        "colab_type": "text"
      },
      "source": [
        "<a href=\"https://colab.research.google.com/github/gresantini/Python-exercises/blob/main/max_depth_binary_tree.ipynb\" target=\"_parent\"><img src=\"https://colab.research.google.com/assets/colab-badge.svg\" alt=\"Open In Colab\"/></a>"
      ]
    },
    {
      "cell_type": "code",
      "execution_count": null,
      "metadata": {
        "id": "0_dAcrtyhooj"
      },
      "outputs": [],
      "source": [
        "#Given the root of a binary tree, return its maximum depth.\n"
      ]
    },
    {
      "cell_type": "code",
      "source": [
        "class TreeNode(object):\n",
        "  def __init__ (self, val=0, left=None, right=None):\n",
        "    self.val= val\n",
        "    self.left = left\n",
        "    self.right = right\n",
        "\n",
        "class Solution():\n",
        "    def maxDepth(self,root):\n",
        "      if root is None:\n",
        "        return 0\n",
        "      else:\n",
        "        leftDepth = self.maxDepth(root.left)\n",
        "        rightDepth = self.maxDepth(root.right)\n",
        "        return max(leftDepth, rightDepth) + 1\n",
        "\n",
        "root = TreeNode(1)\n",
        "root.left = TreeNode(2, TreeNode(4))\n",
        "root.right = TreeNode(3)\n",
        "\n",
        "\n",
        "\n",
        "solution= Solution()\n",
        "print(solution.maxDepth(root))"
      ],
      "metadata": {
        "colab": {
          "base_uri": "https://localhost:8080/"
        },
        "id": "9MVwf-4Wi4ZH",
        "outputId": "d9d66ce7-1fff-4010-edd8-aee1237d7f9a"
      },
      "execution_count": 3,
      "outputs": [
        {
          "output_type": "stream",
          "name": "stdout",
          "text": [
            "3\n"
          ]
        }
      ]
    },
    {
      "cell_type": "code",
      "source": [
        "#now using BFS"
      ],
      "metadata": {
        "id": "8qJTvM4xlD7v"
      },
      "execution_count": null,
      "outputs": []
    },
    {
      "cell_type": "code",
      "source": [
        "from collections import deque\n",
        "\n",
        "class TreeNode(object):\n",
        "  def __init__ (self, val=0, left=None, right=None):\n",
        "    self.val= val\n",
        "    self.left = left\n",
        "    self.right = right\n",
        "\n",
        "class Solution:\n",
        "  def maxDepth(self,root):\n",
        "      if root is None:\n",
        "        return 0\n",
        "\n",
        "      queue = deque([root])\n",
        "      depth=0\n",
        "\n",
        "      while queue:\n",
        "        level_size = len(queue)\n",
        "        for _ in range (level_size):\n",
        "          node = queue.popleft()\n",
        "          if node.left:\n",
        "            queue.append(node.left)\n",
        "          if node.right:\n",
        "            queue.append(node.right)\n",
        "        depth += 1\n",
        "      return depth\n",
        "\n",
        "\n",
        "def build_tree(values):\n",
        "    if not values or values[0] is None:\n",
        "        return None\n",
        "\n",
        "    root = TreeNode(values[0])\n",
        "    queue = deque([root])\n",
        "    i = 1\n",
        "\n",
        "    while queue and i < len(values):\n",
        "        node = queue.popleft()\n",
        "\n",
        "        if i < len(values) and values[i] is not None:\n",
        "            node.left = TreeNode(values[i])\n",
        "            queue.append(node.left)\n",
        "        i += 1\n",
        "\n",
        "        if i < len(values) and values[i] is not None:\n",
        "            node.right = TreeNode(values[i])\n",
        "            queue.append(node.right)\n",
        "        i += 1\n",
        "\n",
        "    return root\n",
        "\n",
        "tree = build_tree([1, 2, 3, None, 4])\n",
        "\n",
        "solution = Solution()\n",
        "print(solution.maxDepth(tree))"
      ],
      "metadata": {
        "colab": {
          "base_uri": "https://localhost:8080/"
        },
        "id": "zfD0RXmNlII3",
        "outputId": "c0fb5509-d7dd-479e-f7a7-c5bed557e027"
      },
      "execution_count": 7,
      "outputs": [
        {
          "output_type": "stream",
          "name": "stdout",
          "text": [
            "3\n"
          ]
        }
      ]
    }
  ]
}