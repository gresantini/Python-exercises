{
  "nbformat": 4,
  "nbformat_minor": 0,
  "metadata": {
    "colab": {
      "provenance": []
    },
    "kernelspec": {
      "name": "python3",
      "display_name": "Python 3"
    },
    "language_info": {
      "name": "python"
    }
  },
  "cells": [
    {
      "cell_type": "code",
      "execution_count": 6,
      "metadata": {
        "colab": {
          "base_uri": "https://localhost:8080/"
        },
        "id": "bsnzawhq2Kjy",
        "outputId": "135ba6da-e8bd-401a-c668-b43d06af28d2"
      },
      "outputs": [
        {
          "output_type": "stream",
          "name": "stdout",
          "text": [
            "Guess the number between 1 and 100: 50\n",
            "Too low!\n",
            "Guess the number between 1 and 100: 60\n",
            "Too low!\n",
            "Guess the number between 1 and 100: 70\n",
            "Too low!\n",
            "Guess the number between 1 and 100: 80\n",
            "Too high!\n",
            "Guess the number between 1 and 100: 75\n",
            "Too high!\n",
            "Guess the number between 1 and 100: 74\n",
            "Too high!\n",
            "Guess the number between 1 and 100: 73\n",
            "Congratulations! You guessed the number in 7 attempts\n"
          ]
        }
      ],
      "source": [
        "# GUESS THE NUMBER GAME!\n",
        "import random\n",
        "\n",
        "number_to_guess = random.randint(1, 100)\n",
        "attempts = 0\n",
        "while True:\n",
        "  try:\n",
        "    guess = int(input('Guess the number between 1 and 100: '))\n",
        "\n",
        "    if guess < number_to_guess:\n",
        "      print('Too low!')\n",
        "      attempts +=1\n",
        "    elif guess > number_to_guess:\n",
        "      print('Too high!')\n",
        "      attempts +=1\n",
        "    else:\n",
        "\n",
        "      attempts +=1\n",
        "      print(f'Congratulations! You guessed the number in {attempts} attempts')\n",
        "      break\n",
        "  except ValueError:\n",
        "    print('Please enter a valid number')\n"
      ]
    }
  ]
}