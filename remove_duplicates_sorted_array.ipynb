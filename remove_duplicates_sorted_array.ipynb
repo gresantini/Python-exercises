{
  "nbformat": 4,
  "nbformat_minor": 0,
  "metadata": {
    "colab": {
      "provenance": [],
      "authorship_tag": "ABX9TyPpOC4ymNPujj6v6allsEW1",
      "include_colab_link": true
    },
    "kernelspec": {
      "name": "python3",
      "display_name": "Python 3"
    },
    "language_info": {
      "name": "python"
    }
  },
  "cells": [
    {
      "cell_type": "markdown",
      "metadata": {
        "id": "view-in-github",
        "colab_type": "text"
      },
      "source": [
        "<a href=\"https://colab.research.google.com/github/gresantini/Python-exercises/blob/main/remove_duplicates_sorted_array.ipynb\" target=\"_parent\"><img src=\"https://colab.research.google.com/assets/colab-badge.svg\" alt=\"Open In Colab\"/></a>"
      ]
    },
    {
      "cell_type": "code",
      "execution_count": null,
      "metadata": {
        "id": "Wd--a4cuwxht"
      },
      "outputs": [],
      "source": [
        "#Given an integer array nums sorted in non-decreasing order, remove the duplicates in-place such that each unique element appears only once.\n",
        "#The relative order of the elements should be kept the same. Then return the number of unique elements in nums.\n"
      ]
    },
    {
      "cell_type": "code",
      "source": [
        "class Solution(object):\n",
        "    def removeDuplicates(self, nums):\n",
        "     if not nums:\n",
        "       return 0\n",
        "\n",
        "     i=0\n",
        "     for j in range(1, len(nums)):\n",
        "        if nums[j] != nums[i]:\n",
        "          i+=1\n",
        "          nums[i]=nums[j]\n",
        "     return i +1\n",
        "\n",
        "\n",
        "\n",
        "\n",
        "\n",
        "\n",
        "\n",
        "\n",
        "\n",
        "solution= Solution()\n",
        "print(solution.removeDuplicates([1,1,2]))\n",
        "print(solution.removeDuplicates([0,0,1,1,1,2,2,3,3,4]))"
      ],
      "metadata": {
        "id": "7BrxhblsxQUt"
      },
      "execution_count": null,
      "outputs": []
    }
  ]
}