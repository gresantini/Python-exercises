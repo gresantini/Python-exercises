{
  "nbformat": 4,
  "nbformat_minor": 0,
  "metadata": {
    "colab": {
      "provenance": [],
      "authorship_tag": "ABX9TyNFUf7pXD4Ynu0l6ptz7Xxk",
      "include_colab_link": true
    },
    "kernelspec": {
      "name": "python3",
      "display_name": "Python 3"
    },
    "language_info": {
      "name": "python"
    }
  },
  "cells": [
    {
      "cell_type": "markdown",
      "metadata": {
        "id": "view-in-github",
        "colab_type": "text"
      },
      "source": [
        "<a href=\"https://colab.research.google.com/github/gresantini/Python-exercises/blob/main/merge_two_sorted_list.ipynb\" target=\"_parent\"><img src=\"https://colab.research.google.com/assets/colab-badge.svg\" alt=\"Open In Colab\"/></a>"
      ]
    },
    {
      "cell_type": "code",
      "execution_count": null,
      "metadata": {
        "id": "ucfUOGorxhp6"
      },
      "outputs": [],
      "source": [
        "#You are given the heads of two sorted linked lists list1 and list2.\n",
        "#Merge the two lists into one sorted list. The list should be made by splicing together the nodes of the first two lists.\n",
        "#Return the head of the merged linked list.\n",
        "\n",
        ""
      ]
    },
    {
      "cell_type": "code",
      "source": [
        "class Solution(object):\n",
        "    def mergeTwoLists(self, list1, list2):\n",
        "      list3= list1+list2\n",
        "      sorted_list= sorted(list3)\n",
        "      return sorted_list[:4]\n",
        "\n",
        "solution= Solution()\n",
        "print(solution.mergeTwoLists([1,2,4],[1,3,4]))\n",
        "print(solution.mergeTwoLists([],[]))\n",
        "print(solution.mergeTwoLists([], [0]))"
      ],
      "metadata": {
        "id": "PqYL9NlIxtsu"
      },
      "execution_count": null,
      "outputs": []
    }
  ]
}