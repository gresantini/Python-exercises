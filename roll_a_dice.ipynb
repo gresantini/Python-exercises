{
  "nbformat": 4,
  "nbformat_minor": 0,
  "metadata": {
    "colab": {
      "provenance": [],
      "authorship_tag": "ABX9TyPOEe3EpzufNLPsjgPMH6SL",
      "include_colab_link": true
    },
    "kernelspec": {
      "name": "python3",
      "display_name": "Python 3"
    },
    "language_info": {
      "name": "python"
    }
  },
  "cells": [
    {
      "cell_type": "markdown",
      "metadata": {
        "id": "view-in-github",
        "colab_type": "text"
      },
      "source": [
        "<a href=\"https://colab.research.google.com/github/gresantini/Python-exercises/blob/main/roll_a_dice.ipynb\" target=\"_parent\"><img src=\"https://colab.research.google.com/assets/colab-badge.svg\" alt=\"Open In Colab\"/></a>"
      ]
    },
    {
      "cell_type": "code",
      "execution_count": 32,
      "metadata": {
        "colab": {
          "base_uri": "https://localhost:8080/"
        },
        "id": "44k-vDmVFNYi",
        "outputId": "cd2c1a35-a87b-4f2f-da34-8c72da305444"
      },
      "outputs": [
        {
          "output_type": "stream",
          "name": "stdout",
          "text": [
            "Do you want to roll a dice? Yes or No\n",
            "j\n",
            "Invalid answer\n"
          ]
        }
      ],
      "source": [
        "# roll a dice project\n",
        "\n",
        "import random\n",
        "random_choice= random.randint(1,6)\n",
        "print(\"Do you want to roll a dice? Yes or No\")\n",
        "answer=input()\n",
        "if answer==\"Yes\" or answer==\"yes\":\n",
        "  print(random_choice)\n",
        "elif answer == \"No\" or answer==\"no\":\n",
        "  print(\"Goodbye\")\n",
        "else:\n",
        "  print(\"Invalid answer\")"
      ]
    }
  ]
}