{
  "nbformat": 4,
  "nbformat_minor": 0,
  "metadata": {
    "colab": {
      "provenance": [],
      "authorship_tag": "ABX9TyPOEe3EpzufNLPsjgPMH6SL",
      "include_colab_link": true
    },
    "kernelspec": {
      "name": "python3",
      "display_name": "Python 3"
    },
    "language_info": {
      "name": "python"
    }
  },
  "cells": [
    {
      "cell_type": "markdown",
      "metadata": {
        "id": "view-in-github",
        "colab_type": "text"
      },
      "source": [
        "<a href=\"https://colab.research.google.com/github/gresantini/Python-exercises/blob/main/roll_a_dice.ipynb\" target=\"_parent\"><img src=\"https://colab.research.google.com/assets/colab-badge.svg\" alt=\"Open In Colab\"/></a>"
      ]
    },
    {
      "cell_type": "code",
      "execution_count": null,
      "metadata": {
        "colab": {
          "base_uri": "https://localhost:8080/"
        },
        "id": "44k-vDmVFNYi",
        "outputId": "355fe5b6-d6b9-4c27-a1db-2440013af338"
      },
      "outputs": [
        {
          "output_type": "stream",
          "name": "stdout",
          "text": [
            "Do you want to roll a dice? Yes or No\n"
          ]
        }
      ],
      "source": [
        "# roll a dice project\n",
        "\n",
        "import random\n",
        "random_choice= random.randint(1,6)\n",
        "print(\"Do you want to roll a dice? Yes or No\")\n",
        "answer=input()\n",
        "if answer==\"Yes\" or answer==\"yes\":\n",
        "  print(random_choice)\n",
        "elif answer == \"No\" or answer==\"no\":\n",
        "  print(\"Goodbye\")\n",
        "else:\n",
        "  print(\"Invalid answer\")"
      ]
    }
  ]
}