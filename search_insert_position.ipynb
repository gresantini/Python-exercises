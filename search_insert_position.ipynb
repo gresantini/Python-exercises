{
  "nbformat": 4,
  "nbformat_minor": 0,
  "metadata": {
    "colab": {
      "provenance": [],
      "authorship_tag": "ABX9TyNGdtq6UBEcLn1rJ+NMs2gU",
      "include_colab_link": true
    },
    "kernelspec": {
      "name": "python3",
      "display_name": "Python 3"
    },
    "language_info": {
      "name": "python"
    }
  },
  "cells": [
    {
      "cell_type": "markdown",
      "metadata": {
        "id": "view-in-github",
        "colab_type": "text"
      },
      "source": [
        "<a href=\"https://colab.research.google.com/github/gresantini/Python-exercises/blob/main/search_insert_position.ipynb\" target=\"_parent\"><img src=\"https://colab.research.google.com/assets/colab-badge.svg\" alt=\"Open In Colab\"/></a>"
      ]
    },
    {
      "cell_type": "code",
      "execution_count": null,
      "metadata": {
        "id": "eigo0bw3hC3u"
      },
      "outputs": [],
      "source": [
        "#Given a sorted array of distinct integers and a target value, return the index if the target is found. If not, return the index where it would be if it were inserted in order.\n",
        "#You must write an algorithm with O(log n) runtime complexity."
      ]
    },
    {
      "cell_type": "code",
      "source": [
        "class Solution(object):\n",
        "    def searchInsert(self, nums, target):\n",
        "        left = 0\n",
        "        right = len(nums)-1\n",
        "        while left <= right:\n",
        "          mid = (left+right)//2\n",
        "          if nums[mid]==target:\n",
        "            return mid\n",
        "          elif nums[mid]<target:\n",
        "            left= mid+1\n",
        "          else:\n",
        "            right=mid-1\n",
        "        return left\n",
        "\n",
        "\n",
        "\n",
        "solution= Solution()\n",
        "print(solution.searchInsert([1,3,5,6],5))\n",
        "print(solution.searchInsert([1,3,5,6],2))\n"
      ],
      "metadata": {
        "id": "5Y0v3kTVhN3O"
      },
      "execution_count": null,
      "outputs": []
    }
  ]
}