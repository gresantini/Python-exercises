{
  "nbformat": 4,
  "nbformat_minor": 0,
  "metadata": {
    "colab": {
      "provenance": [],
      "authorship_tag": "ABX9TyPm8NZehkx2xCHqKQjZcgYa",
      "include_colab_link": true
    },
    "kernelspec": {
      "name": "python3",
      "display_name": "Python 3"
    },
    "language_info": {
      "name": "python"
    }
  },
  "cells": [
    {
      "cell_type": "markdown",
      "metadata": {
        "id": "view-in-github",
        "colab_type": "text"
      },
      "source": [
        "<a href=\"https://colab.research.google.com/github/gresantini/Python-exercises/blob/main/best_time_stock.ipynb\" target=\"_parent\"><img src=\"https://colab.research.google.com/assets/colab-badge.svg\" alt=\"Open In Colab\"/></a>"
      ]
    },
    {
      "cell_type": "code",
      "execution_count": null,
      "metadata": {
        "id": "i_Jd8aMvWOnB"
      },
      "outputs": [],
      "source": [
        "#You are given an array prices where prices[i] is the price of a given stock on the ith day.\n",
        "#You want to maximize your profit by choosing a single day to buy one stock and choosing a different day in the future to sell that stock.\n",
        "#Return the maximum profit you can achieve from this transaction. If you cannot achieve any profit, return 0."
      ]
    },
    {
      "cell_type": "code",
      "source": [
        "class Solution(object):\n",
        "  def maxProfit(self, prices):\n",
        "    min_price = float('inf')\n",
        "    max_profit = 0\n",
        "    for price in prices:\n",
        "      if min_price > price:\n",
        "        min_price = price\n",
        "      else:\n",
        "        profit = price - min_price\n",
        "        if profit > max_profit:\n",
        "          max_profit = profit\n",
        "    return max_profit\n",
        "\n",
        "solution = Solution()\n",
        "print(solution.maxProfit([7,1,5,3,6,4]))\n",
        ""
      ],
      "metadata": {
        "id": "mS7-719gWe_V"
      },
      "execution_count": null,
      "outputs": []
    }
  ]
}