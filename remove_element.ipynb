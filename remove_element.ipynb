{
  "nbformat": 4,
  "nbformat_minor": 0,
  "metadata": {
    "colab": {
      "provenance": [],
      "authorship_tag": "ABX9TyM3Htl42YOpR9PIPM0CSnLU",
      "include_colab_link": true
    },
    "kernelspec": {
      "name": "python3",
      "display_name": "Python 3"
    },
    "language_info": {
      "name": "python"
    }
  },
  "cells": [
    {
      "cell_type": "markdown",
      "metadata": {
        "id": "view-in-github",
        "colab_type": "text"
      },
      "source": [
        "<a href=\"https://colab.research.google.com/github/gresantini/Python-exercises/blob/main/remove_element.ipynb\" target=\"_parent\"><img src=\"https://colab.research.google.com/assets/colab-badge.svg\" alt=\"Open In Colab\"/></a>"
      ]
    },
    {
      "cell_type": "code",
      "execution_count": null,
      "metadata": {
        "id": "KT3_Q2-7F2KK"
      },
      "outputs": [],
      "source": [
        "#Given an integer array nums and an integer val, remove all occurrences of val in nums in-place.\n",
        "#The order of the elements may be changed. Then return the number of elements in nums which are not equal to val."
      ]
    },
    {
      "cell_type": "code",
      "source": [
        "class Solution(object):\n",
        "    def removeElement(self, nums, val):\n",
        "      k=0\n",
        "      for i in range (len(nums)):\n",
        "        if nums[i]!= val:\n",
        "          nums[k]=nums[i]\n",
        "          k+=1\n",
        "      return k\n",
        "\n",
        "\n",
        "\n",
        "\n",
        "\n",
        "solution= Solution()\n",
        "print(solution.removeElement([3,2,2,3],3))\n",
        "print(solution.removeElement([0,1,2,2,3,0,4,2],2))"
      ],
      "metadata": {
        "id": "9VqNW8XMGTKm"
      },
      "execution_count": null,
      "outputs": []
    }
  ]
}