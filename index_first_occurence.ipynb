{
  "nbformat": 4,
  "nbformat_minor": 0,
  "metadata": {
    "colab": {
      "provenance": [],
      "authorship_tag": "ABX9TyNhU9R0qcp4QQ/a9uTV9WE9",
      "include_colab_link": true
    },
    "kernelspec": {
      "name": "python3",
      "display_name": "Python 3"
    },
    "language_info": {
      "name": "python"
    }
  },
  "cells": [
    {
      "cell_type": "markdown",
      "metadata": {
        "id": "view-in-github",
        "colab_type": "text"
      },
      "source": [
        "<a href=\"https://colab.research.google.com/github/gresantini/Python-exercises/blob/main/index_first_occurence.ipynb\" target=\"_parent\"><img src=\"https://colab.research.google.com/assets/colab-badge.svg\" alt=\"Open In Colab\"/></a>"
      ]
    },
    {
      "cell_type": "code",
      "execution_count": null,
      "metadata": {
        "id": "TrQpsDkdfL-6"
      },
      "outputs": [],
      "source": [
        "#Given two strings needle and haystack, return the index of the first occurrence of needle in haystack, or -1 if needle is not part of haystack.\n",
        "\n",
        ""
      ]
    },
    {
      "cell_type": "code",
      "source": [
        "class Solution(object):\n",
        "    def strStr(self, haystack, needle):\n",
        "      for i in range(len(haystack)-len(needle)+1):\n",
        "        return i if haystack[i:i+len(needle)] == needle else -1\n",
        "\n",
        "\n",
        "\n",
        "\n",
        "\n",
        "\n",
        "\n",
        "\n",
        "\n",
        "solution= Solution()\n",
        "print(solution.strStr(\"sadbutsad\", \"sad\"))\n",
        "print(solution.strStr(\"leetcode\", \"leeto\"))"
      ],
      "metadata": {
        "id": "y-_MJJyofkcE"
      },
      "execution_count": null,
      "outputs": []
    }
  ]
}