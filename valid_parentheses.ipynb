{
  "nbformat": 4,
  "nbformat_minor": 0,
  "metadata": {
    "colab": {
      "provenance": [],
      "authorship_tag": "ABX9TyPSEapfnzsw7CNrUGx9nfF/",
      "include_colab_link": true
    },
    "kernelspec": {
      "name": "python3",
      "display_name": "Python 3"
    },
    "language_info": {
      "name": "python"
    }
  },
  "cells": [
    {
      "cell_type": "markdown",
      "metadata": {
        "id": "view-in-github",
        "colab_type": "text"
      },
      "source": [
        "<a href=\"https://colab.research.google.com/github/gresantini/Python-exercises/blob/main/valid_parentheses.ipynb\" target=\"_parent\"><img src=\"https://colab.research.google.com/assets/colab-badge.svg\" alt=\"Open In Colab\"/></a>"
      ]
    },
    {
      "cell_type": "code",
      "execution_count": null,
      "metadata": {
        "id": "lJE0R-J8qYk9"
      },
      "outputs": [],
      "source": [
        "#Given a string s containing just the characters '(', ')', '{', '}', '[' and ']', determine if the input string is valid.\n",
        "\n",
        "#An input string is valid if:\n",
        "\n",
        "#Open brackets must be closed by the same type of brackets.\n",
        "#Open brackets must be closed in the correct order.\n",
        "#Every close bracket has a corresponding open bracket of the same type."
      ]
    },
    {
      "cell_type": "code",
      "source": [
        "class Solution(object):\n",
        "  def isValid(self,s):\n",
        "    stack = []\n",
        "    mapping = {\")\": \"(\", \"}\": \"{\", \"]\": \"[\"}\n",
        "    for char in s:\n",
        "      if char in mapping:\n",
        "        first_element = stack.pop() if stack else '#'\n",
        "        if mapping[char] != first_element:\n",
        "          return False\n",
        "      else:\n",
        "        stack.append(char)\n",
        "    return not stack\n",
        "\n",
        "\n",
        "s= Solution()\n",
        "print(s.isValid(\"()\"))\n",
        "print(s.isValid(\"[](){}\"))\n",
        "print(s.isValid(\"[)\"))\n",
        "print(s.isValid(\"[()]\"))\n"
      ],
      "metadata": {
        "id": "N4zeFQB5qkOq"
      },
      "execution_count": null,
      "outputs": []
    }
  ]
}