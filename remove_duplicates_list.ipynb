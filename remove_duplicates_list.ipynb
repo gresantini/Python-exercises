{
  "nbformat": 4,
  "nbformat_minor": 0,
  "metadata": {
    "colab": {
      "provenance": [],
      "authorship_tag": "ABX9TyPguqqCNb5yT/PdsuzEC5zM",
      "include_colab_link": true
    },
    "kernelspec": {
      "name": "python3",
      "display_name": "Python 3"
    },
    "language_info": {
      "name": "python"
    }
  },
  "cells": [
    {
      "cell_type": "markdown",
      "metadata": {
        "id": "view-in-github",
        "colab_type": "text"
      },
      "source": [
        "<a href=\"https://colab.research.google.com/github/gresantini/Python-exercises/blob/main/remove_duplicates_list.ipynb\" target=\"_parent\"><img src=\"https://colab.research.google.com/assets/colab-badge.svg\" alt=\"Open In Colab\"/></a>"
      ]
    },
    {
      "cell_type": "code",
      "execution_count": null,
      "metadata": {
        "id": "kCw8teOcAaeC"
      },
      "outputs": [],
      "source": [
        "#Given the head of a sorted linked list, delete all duplicates such that each element appears only once. Return the linked list sorted as well."
      ]
    },
    {
      "cell_type": "code",
      "source": [
        "class Solution(object):\n",
        "    def deleteDuplicates(self, head):\n",
        "      for i in range(len(head)-1,0,-1):\n",
        "        if head[i]==head[i-1]:\n",
        "          del head[i]\n",
        "      return head\n",
        "\n",
        "\n",
        "\n",
        "\n",
        "solution=Solution()\n",
        "print(solution.deleteDuplicates([1,1,2]))\n",
        "print(solution.deleteDuplicates([1,1,2,3,3]))"
      ],
      "metadata": {
        "colab": {
          "base_uri": "https://localhost:8080/"
        },
        "id": "iZlPq1A4Aglu",
        "outputId": "6554a7b8-d842-4f8b-f787-f1f5a09f8508"
      },
      "execution_count": 1,
      "outputs": [
        {
          "output_type": "stream",
          "name": "stdout",
          "text": [
            "[1, 2]\n",
            "[1, 2, 3]\n"
          ]
        }
      ]
    }
  ]
}