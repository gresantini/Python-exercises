{
  "nbformat": 4,
  "nbformat_minor": 0,
  "metadata": {
    "colab": {
      "provenance": [],
      "authorship_tag": "ABX9TyMRCGd2jF+KGx/zwRktLV6Y",
      "include_colab_link": true
    },
    "kernelspec": {
      "name": "python3",
      "display_name": "Python 3"
    },
    "language_info": {
      "name": "python"
    }
  },
  "cells": [
    {
      "cell_type": "markdown",
      "metadata": {
        "id": "view-in-github",
        "colab_type": "text"
      },
      "source": [
        "<a href=\"https://colab.research.google.com/github/gresantini/Python-exercises/blob/main/symmetric_tree.ipynb\" target=\"_parent\"><img src=\"https://colab.research.google.com/assets/colab-badge.svg\" alt=\"Open In Colab\"/></a>"
      ]
    },
    {
      "cell_type": "code",
      "execution_count": null,
      "metadata": {
        "id": "ieLekEBQd8k_"
      },
      "outputs": [],
      "source": [
        "#Given the root of a binary tree, check whether it is a mirror of itself (i.e., symmetric around its center)."
      ]
    },
    {
      "cell_type": "code",
      "source": [
        "class TreeNode(object):\n",
        "  def __init__(self, val=0, left=None, right=None):\n",
        "    self.val = val\n",
        "    self.left = left\n",
        "    self.right = right\n",
        "\n",
        "class Solution(object):\n",
        "    def isSymmetric(self, root):\n",
        "        if not root:\n",
        "          return  True\n",
        "        def isMirror(t1, t2):\n",
        "          if not t1 and not t2:\n",
        "            return True\n",
        "          if not t1  or not t2:\n",
        "            return False\n",
        "          if t1.val != t2.val:\n",
        "            return False\n",
        "          return isMirror(t1.right, t2.left) and isMirror(t1.left, t2.right)\n",
        "\n",
        "        return isMirror(root.left, root.right)\n",
        "\n",
        "root = TreeNode(1)\n",
        "root.left = TreeNode(2, TreeNode(3), TreeNode(4))\n",
        "root.right = TreeNode(2, TreeNode(4), TreeNode(3))\n",
        "\n",
        "\n",
        "\n",
        "solution= Solution()\n",
        "print(solution.isSymmetric(root))"
      ],
      "metadata": {
        "id": "j-RtyvoSeAxn"
      },
      "execution_count": null,
      "outputs": []
    }
  ]
}