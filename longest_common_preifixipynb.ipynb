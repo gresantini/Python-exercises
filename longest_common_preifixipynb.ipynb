{
  "nbformat": 4,
  "nbformat_minor": 0,
  "metadata": {
    "colab": {
      "provenance": [],
      "authorship_tag": "ABX9TyNdOO4SNjqK7jh/mDvVt4Sz",
      "include_colab_link": true
    },
    "kernelspec": {
      "name": "python3",
      "display_name": "Python 3"
    },
    "language_info": {
      "name": "python"
    }
  },
  "cells": [
    {
      "cell_type": "markdown",
      "metadata": {
        "id": "view-in-github",
        "colab_type": "text"
      },
      "source": [
        "<a href=\"https://colab.research.google.com/github/gresantini/Python-exercises/blob/main/longest_common_preifixipynb.ipynb\" target=\"_parent\"><img src=\"https://colab.research.google.com/assets/colab-badge.svg\" alt=\"Open In Colab\"/></a>"
      ]
    },
    {
      "cell_type": "code",
      "execution_count": null,
      "metadata": {
        "id": "BZTrmNWhmm1u"
      },
      "outputs": [],
      "source": [
        "#Write a function to find the longest common prefix string amongst an array of strings.\n",
        "#If there is no common prefix, return an empty string \"\"."
      ]
    },
    {
      "cell_type": "code",
      "source": [
        "class Solution(object):\n",
        "  def common_longest_prefix(self, strs):\n",
        "    if not strs:\n",
        "      return '\"\"'\n",
        "\n",
        "    prefix = strs[0]\n",
        "    for string in strs[1:]:\n",
        "      while not string.startswith(prefix):\n",
        "        prefix = prefix[:-1]\n",
        "        if not prefix:\n",
        "          return '\"\"'\n",
        "\n",
        "    return prefix\n",
        "\n",
        "\n",
        "\n",
        "s= Solution()\n",
        "print(s.common_longest_prefix(['flower','flight', 'flow']))\n",
        "print(s.common_longest_prefix([\"dog\",\"racecar\",\"car\"]))\n"
      ],
      "metadata": {
        "id": "7K9eeFzRm9lh"
      },
      "execution_count": null,
      "outputs": []
    }
  ]
}