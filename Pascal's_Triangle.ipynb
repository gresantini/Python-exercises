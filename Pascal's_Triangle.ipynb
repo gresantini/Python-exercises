{
  "nbformat": 4,
  "nbformat_minor": 0,
  "metadata": {
    "colab": {
      "provenance": [],
      "authorship_tag": "ABX9TyOsO/y4Mvr4o42mTYZC2XFw",
      "include_colab_link": true
    },
    "kernelspec": {
      "name": "python3",
      "display_name": "Python 3"
    },
    "language_info": {
      "name": "python"
    }
  },
  "cells": [
    {
      "cell_type": "markdown",
      "metadata": {
        "id": "view-in-github",
        "colab_type": "text"
      },
      "source": [
        "<a href=\"https://colab.research.google.com/github/gresantini/Python-exercises/blob/main/Pascal's_Triangle.ipynb\" target=\"_parent\"><img src=\"https://colab.research.google.com/assets/colab-badge.svg\" alt=\"Open In Colab\"/></a>"
      ]
    },
    {
      "cell_type": "code",
      "execution_count": null,
      "metadata": {
        "id": "z-VsBKasQg9J"
      },
      "outputs": [],
      "source": [
        "#Given an integer numRows, return the first numRows of Pascal's triangle."
      ]
    },
    {
      "cell_type": "code",
      "source": [
        "class Solution(object):\n",
        "  def generate(self, numRows):\n",
        "    if numRows ==0:\n",
        "      return []\n",
        "    triangle = [[1]]\n",
        "    for i in range(1, numRows):\n",
        "      prev_row = triangle[-1]\n",
        "      new_row = [1]\n",
        "      for j in range(1,i):\n",
        "        new_row.append(prev_row[j-1] + prev_row[j])\n",
        "      new_row.append(1)\n",
        "      triangle.append(new_row)\n",
        "    return triangle\n",
        "\n",
        "\n",
        "solution= Solution()\n",
        "print(solution.generate(5))"
      ],
      "metadata": {
        "id": "p1OtbQcJQlGu"
      },
      "execution_count": null,
      "outputs": []
    }
  ]
}