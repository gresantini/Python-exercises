{
  "nbformat": 4,
  "nbformat_minor": 0,
  "metadata": {
    "colab": {
      "provenance": [],
      "authorship_tag": "ABX9TyP922sZR7aB4i4lftFYPKDp",
      "include_colab_link": true
    },
    "kernelspec": {
      "name": "python3",
      "display_name": "Python 3"
    },
    "language_info": {
      "name": "python"
    }
  },
  "cells": [
    {
      "cell_type": "markdown",
      "metadata": {
        "id": "view-in-github",
        "colab_type": "text"
      },
      "source": [
        "<a href=\"https://colab.research.google.com/github/gresantini/Python-exercises/blob/main/roman_to_integer.ipynb\" target=\"_parent\"><img src=\"https://colab.research.google.com/assets/colab-badge.svg\" alt=\"Open In Colab\"/></a>"
      ]
    },
    {
      "cell_type": "code",
      "execution_count": null,
      "metadata": {
        "id": "UDWaSx8e8dh_"
      },
      "outputs": [],
      "source": [
        "#Given a roman numeral, convert it to an integer.\n",
        "\n",
        "\n",
        "class Solution():\n",
        "  def roman_to_int(number, s):\n",
        "    roman_dict={'I':1, 'V':5, 'X':10, 'L':50, 'C':100, 'D':500, 'M':1000 }\n",
        "\n",
        "    total = 0\n",
        "    prev_value= 0\n",
        "\n",
        "    for char in reversed (s):\n",
        "      value= roman_dict[char]\n",
        "      if value<prev_value:\n",
        "        total-=value\n",
        "      else:\n",
        "        total+=value\n",
        "        prev_value=value\n",
        "    return total\n",
        "\n",
        "\n",
        "\n",
        "\n",
        "sol= Solution()\n",
        "print(sol.roman_to_int(\"III\"))\n",
        "print(sol.roman_to_int(\"LVIII\"))\n",
        "print(sol.roman_to_int(\"MCMXCIV\"))"
      ]
    }
  ]
}