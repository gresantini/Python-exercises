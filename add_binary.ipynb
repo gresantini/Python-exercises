{
  "nbformat": 4,
  "nbformat_minor": 0,
  "metadata": {
    "colab": {
      "provenance": [],
      "authorship_tag": "ABX9TyOhF3lahIGiRib0mqTzfREp",
      "include_colab_link": true
    },
    "kernelspec": {
      "name": "python3",
      "display_name": "Python 3"
    },
    "language_info": {
      "name": "python"
    }
  },
  "cells": [
    {
      "cell_type": "markdown",
      "metadata": {
        "id": "view-in-github",
        "colab_type": "text"
      },
      "source": [
        "<a href=\"https://colab.research.google.com/github/gresantini/Python-exercises/blob/main/add_binary.ipynb\" target=\"_parent\"><img src=\"https://colab.research.google.com/assets/colab-badge.svg\" alt=\"Open In Colab\"/></a>"
      ]
    },
    {
      "cell_type": "code",
      "execution_count": null,
      "metadata": {
        "id": "m8IEl2jRJYHD"
      },
      "outputs": [],
      "source": [
        "#Given two binary strings a and b, return their sum as a binary string."
      ]
    },
    {
      "cell_type": "code",
      "source": [
        "class Solution(object):\n",
        "    def addBinary( self, a, b):\n",
        "      num1= int(a,2)\n",
        "      num2= int(b,2)\n",
        "      sum= num1+num2\n",
        "      return bin(sum)[2:]\n",
        "\n",
        "\n",
        "\n",
        "\n",
        "solution= Solution()\n",
        "print(solution.addBinary(\"11\",\"1\"))\n",
        "print(solution.addBinary(\"1010\",\"1011\"))\n",
        "print(solution.addBinary(\"1111\",\"1111\"))"
      ],
      "metadata": {
        "id": "soKRLm1KJfQA"
      },
      "execution_count": null,
      "outputs": []
    }
  ]
}