{
  "nbformat": 4,
  "nbformat_minor": 0,
  "metadata": {
    "colab": {
      "provenance": [],
      "authorship_tag": "ABX9TyMlUEq+MmJNqhtiY9ZsSazy",
      "include_colab_link": true
    },
    "kernelspec": {
      "name": "python3",
      "display_name": "Python 3"
    },
    "language_info": {
      "name": "python"
    }
  },
  "cells": [
    {
      "cell_type": "markdown",
      "metadata": {
        "id": "view-in-github",
        "colab_type": "text"
      },
      "source": [
        "<a href=\"https://colab.research.google.com/github/gresantini/Python-exercises/blob/main/length_last_word.ipynb\" target=\"_parent\"><img src=\"https://colab.research.google.com/assets/colab-badge.svg\" alt=\"Open In Colab\"/></a>"
      ]
    },
    {
      "cell_type": "code",
      "execution_count": null,
      "metadata": {
        "id": "vykzMrUKjcfu"
      },
      "outputs": [],
      "source": [
        "#Given a string s consisting of words and spaces, return the length of the last word in the string."
      ]
    },
    {
      "cell_type": "code",
      "source": [
        "class Solution():\n",
        "  def lengthLastWord(self,s):\n",
        "    list=s.split()\n",
        "    return len(list[-1])\n",
        "\n",
        "\n",
        "\n",
        "solution=Solution()\n",
        "print(solution.lengthLastWord(\"Hello World\"))\n",
        "print(solution.lengthLastWord(\"   fly me   to   the moon  \"))\n",
        "print(solution.lengthLastWord(\"luffy is still joyboy\"))\n"
      ],
      "metadata": {
        "id": "TkcQse4Kji5P"
      },
      "execution_count": null,
      "outputs": []
    }
  ]
}