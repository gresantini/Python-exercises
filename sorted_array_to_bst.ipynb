{
  "nbformat": 4,
  "nbformat_minor": 0,
  "metadata": {
    "colab": {
      "provenance": [],
      "authorship_tag": "ABX9TyNmi3bnXLN8mZiuZZ9/xm7/",
      "include_colab_link": true
    },
    "kernelspec": {
      "name": "python3",
      "display_name": "Python 3"
    },
    "language_info": {
      "name": "python"
    }
  },
  "cells": [
    {
      "cell_type": "markdown",
      "metadata": {
        "id": "view-in-github",
        "colab_type": "text"
      },
      "source": [
        "<a href=\"https://colab.research.google.com/github/gresantini/Python-exercises/blob/main/sorted_array_to_bst.ipynb\" target=\"_parent\"><img src=\"https://colab.research.google.com/assets/colab-badge.svg\" alt=\"Open In Colab\"/></a>"
      ]
    },
    {
      "cell_type": "code",
      "execution_count": null,
      "metadata": {
        "id": "BTio-cr44twb"
      },
      "outputs": [],
      "source": [
        "#Given an integer array nums where the elements are sorted in ascending order, convert it to a height-balanced binary search tree."
      ]
    },
    {
      "cell_type": "code",
      "source": [
        "class TreeNode(object):\n",
        "  def __init__(self, val=0, left=None, right=None):\n",
        "    self.val = val\n",
        "    self.left = left\n",
        "    self.right = right\n",
        "\n",
        "class Solution(object):\n",
        "  def sortedArraytoBST(self,nums):\n",
        "    if not nums:\n",
        "      return None\n",
        "    mid = len(nums)//2\n",
        "    root = TreeNode(nums[mid])\n",
        "    root.left = self.sortedArraytoBST(nums[:mid])\n",
        "    root.right = self.sortedArraytoBST(nums[mid+1:])\n",
        "    return root\n",
        "\n",
        "\n",
        "def print_inorder(root):\n",
        "  if not root:\n",
        "    return\n",
        "  print_inorder(root.left)\n",
        "  print(root.val, end=\"  \")\n",
        "  print_inorder(root.right)\n",
        "\n",
        "\n",
        "\n",
        "\n",
        "solution= Solution()\n",
        "tree = solution.sortedArraytoBST([-10,-3,0,5,9])\n",
        "print_inorder(tree)\n",
        "\n",
        "\n"
      ],
      "metadata": {
        "id": "dbOqTE9841wS"
      },
      "execution_count": null,
      "outputs": []
    }
  ]
}