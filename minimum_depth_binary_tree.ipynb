{
  "nbformat": 4,
  "nbformat_minor": 0,
  "metadata": {
    "colab": {
      "provenance": [],
      "authorship_tag": "ABX9TyMzmJrKiseo31gGIS8O9/fx",
      "include_colab_link": true
    },
    "kernelspec": {
      "name": "python3",
      "display_name": "Python 3"
    },
    "language_info": {
      "name": "python"
    }
  },
  "cells": [
    {
      "cell_type": "markdown",
      "metadata": {
        "id": "view-in-github",
        "colab_type": "text"
      },
      "source": [
        "<a href=\"https://colab.research.google.com/github/gresantini/Python-exercises/blob/main/minimum_depth_binary_tree.ipynb\" target=\"_parent\"><img src=\"https://colab.research.google.com/assets/colab-badge.svg\" alt=\"Open In Colab\"/></a>"
      ]
    },
    {
      "cell_type": "code",
      "execution_count": null,
      "metadata": {
        "id": "7-l9zki4th1P"
      },
      "outputs": [],
      "source": [
        "#Given a binary tree, find its minimum depth.\n",
        "#The minimum depth is the number of nodes along the shortest path from the root node down to the nearest leaf node."
      ]
    },
    {
      "cell_type": "code",
      "source": [
        "class TreeNode(object):\n",
        "  def __init__(self, val=0, right=None, left=None):\n",
        "    self.val=val\n",
        "    self.right=right\n",
        "    self.left=left\n",
        "\n",
        "class Solution(object):\n",
        "  def minDepth(self,root):\n",
        "    if root is None:\n",
        "      return 0\n",
        "    if root.left is None:\n",
        "      return self.minDepth(root.right)+1\n",
        "    if root.right is None:\n",
        "      return self.minDepth(root.left)+1\n",
        "    if root.left is not None and root.right is not None:\n",
        "      return min(self.minDepth(root.left), self.minDepth(root.right))+1\n",
        "\n",
        "solution=Solution()\n",
        "root=TreeNode(3)\n",
        "root.left=TreeNode(9)\n",
        "root.right=TreeNode(20)\n",
        "root.right.left=TreeNode(15)\n",
        "root.right.right=TreeNode(7)\n",
        "\n",
        "print(solution.minDepth(root))\n",
        "\n",
        ""
      ],
      "metadata": {
        "id": "I3h3gLLutsbo"
      },
      "execution_count": null,
      "outputs": []
    }
  ]
}