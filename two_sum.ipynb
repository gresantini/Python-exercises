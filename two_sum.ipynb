{
  "nbformat": 4,
  "nbformat_minor": 0,
  "metadata": {
    "colab": {
      "provenance": [],
      "authorship_tag": "ABX9TyM9Ee0HSPPKDqHCG2JCD8LM",
      "include_colab_link": true
    },
    "kernelspec": {
      "name": "python3",
      "display_name": "Python 3"
    },
    "language_info": {
      "name": "python"
    }
  },
  "cells": [
    {
      "cell_type": "markdown",
      "metadata": {
        "id": "view-in-github",
        "colab_type": "text"
      },
      "source": [
        "<a href=\"https://colab.research.google.com/github/gresantini/Python-exercises/blob/main/two_sum.ipynb\" target=\"_parent\"><img src=\"https://colab.research.google.com/assets/colab-badge.svg\" alt=\"Open In Colab\"/></a>"
      ]
    },
    {
      "cell_type": "code",
      "execution_count": null,
      "metadata": {
        "id": "SQvSLAgXJIl7"
      },
      "outputs": [],
      "source": [
        "# Given an array of integers nums and an integer target, return indices of the two numbers such that they add up to target.\n",
        "# You may assume that each input would have exactly one solution, and you may not use the same element twice."
      ]
    },
    {
      "cell_type": "code",
      "source": [
        "def solution(nums, target):\n",
        "\n",
        "  for i in range(len(nums)):\n",
        "    for j in range(i+1, len(nums)):\n",
        "      if nums[i]+nums[j]== target:\n",
        "        return [i,j]\n",
        "  return None\n",
        "\n",
        "solution\n",
        "#example 1\n",
        "print(\"example 1: \")\n",
        "nums=[2,7,11,15]\n",
        "target = 9\n",
        "\n",
        "print(solution(nums, target))\n",
        "\n",
        "\n",
        "#example 2\n",
        "print(\"example 2: \")\n",
        "nums= [3,2,4]\n",
        "target = 6\n",
        "print(solution(nums, target))\n",
        "\n",
        "#example 3\n",
        "print(\"example 3: \")\n",
        "nums= [3,3]\n",
        "target = 6\n",
        "print(solution(nums, target))"
      ],
      "metadata": {
        "id": "kuiS4LsHJY6j"
      },
      "execution_count": null,
      "outputs": []
    }
  ]
}