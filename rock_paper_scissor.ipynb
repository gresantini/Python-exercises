{
  "nbformat": 4,
  "nbformat_minor": 0,
  "metadata": {
    "colab": {
      "provenance": [],
      "authorship_tag": "ABX9TyOC5WDeTeeJsBti0q4rWXbz",
      "include_colab_link": true
    },
    "kernelspec": {
      "name": "python3",
      "display_name": "Python 3"
    },
    "language_info": {
      "name": "python"
    }
  },
  "cells": [
    {
      "cell_type": "markdown",
      "metadata": {
        "id": "view-in-github",
        "colab_type": "text"
      },
      "source": [
        "<a href=\"https://colab.research.google.com/github/gresantini/Python-exercises/blob/main/rock_paper_scissor.ipynb\" target=\"_parent\"><img src=\"https://colab.research.google.com/assets/colab-badge.svg\" alt=\"Open In Colab\"/></a>"
      ]
    },
    {
      "cell_type": "code",
      "execution_count": null,
      "metadata": {
        "id": "ukG-1ryj87OQ"
      },
      "outputs": [],
      "source": [
        "# program to play rock paper scissor"
      ]
    },
    {
      "cell_type": "code",
      "source": [
        "import random\n",
        "\n",
        "print(\"Welcome player to ROCK PAPER SCISSOR! \")\n",
        "\n",
        "def game_play():\n",
        "\n",
        "  choices = [\"rock\", \"paper\", \"scissor\"]\n",
        "\n",
        "  computer = random.choice(choices)\n",
        "  player = input(\"Enter your choice: \")\n",
        "  if player not in choices:\n",
        "    print(\"Invalid, try again!\")\n",
        "\n",
        "\n",
        "  print(f\"You chose: {player}\")\n",
        "  print(f\"The computer chose: {computer}\")\n",
        "\n",
        "\n",
        "  if player == computer:\n",
        "    print(\"It's a tie!\")\n",
        "  elif player == 'rock' and computer == 'paper':\n",
        "    print(\"You lost!\")\n",
        "  elif player == 'rock' and computer == 'scissor':\n",
        "    print(\"You win!\")\n",
        "  elif player == 'paper' and computer == 'rock':\n",
        "    print(\"You win!\")\n",
        "  elif player == 'paper' and computer == 'scissor':\n",
        "    print(\"You lost!\")\n",
        "  elif player == 'scissor' and computer == 'rock':\n",
        "    print(\"You lost!\")\n",
        "  elif player == 'scissor' and computer == 'paper':\n",
        "    print(\"You win!\")\n",
        "\n",
        "\n",
        "  print(\"Do you want to play again?\")\n",
        "  play_again= input()\n",
        "  if play_again == \"yes\":\n",
        "    game_play()\n",
        "  else:\n",
        "    print(\"Thank you for playing!\")\n",
        "game_play()"
      ],
      "metadata": {
        "id": "Tr686acuGLlT"
      },
      "execution_count": null,
      "outputs": []
    }
  ]
}